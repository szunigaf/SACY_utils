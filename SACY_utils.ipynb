{
 "cells": [
  {
   "cell_type": "code",
   "execution_count": 27,
   "metadata": {},
   "outputs": [],
   "source": [
    "from astropy.io import ascii\n",
    "import matplotlib.pyplot as plt  \n",
    "import pandas as pd  \n",
    "import numpy as np\n",
    "import seaborn as sns\n",
    "from sqlalchemy import create_engine\n",
    "\n",
    "from astroquery.simbad import Simbad\n",
    "from astroquery.mast import Catalogs\n",
    "\n",
    "from astropy.visualization import astropy_mpl_style\n",
    "plt.style.use(astropy_mpl_style)\n",
    "#from __future__ import division\n",
    "\n",
    "from astropy.table import Table, vstack, join, hstack, unique\n",
    "from astropy import units as u\n",
    "from astropy.coordinates import SkyCoord\n",
    "\n",
    "\n",
    "#import MySQLdb\n",
    "import pymysql\n",
    "pymysql.install_as_MySQLdb()"
   ]
  },
  {
   "cell_type": "code",
   "execution_count": 28,
   "metadata": {},
   "outputs": [],
   "source": [
    "# connect to the sacy local mysql DB \n",
    "db=pymysql.connect(host=\"127.0.0.1\", user=\"root\",passwd=\"sacy_db\", db=\"sacy_PELLIOT\")\n",
    "cursor=db.cursor()"
   ]
  },
  {
   "cell_type": "code",
   "execution_count": 29,
   "metadata": {},
   "outputs": [
    {
     "name": "stdout",
     "output_type": "stream",
     "text": [
      "SACY objects: 841\n"
     ]
    }
   ],
   "source": [
    "# Get all the mass information from SACY sample\n",
    "# next update will be using mysql quering directly from pandas dataframe\n",
    "\n",
    "common_id = []\n",
    "ra_deg = []\n",
    "dec_deg = []\n",
    "mass = []\n",
    "spt = []\n",
    "\n",
    "\n",
    "try:\n",
    "    # Create a MySQL query\n",
    "    sql = (\"select distinct common_id, ra_deg, dec_deg, mass, spt from ncomp_tab where mass <> 999;\")\n",
    "\n",
    "    cursor.execute(sql)\n",
    "    rcount = int(cursor.rowcount)\n",
    "    \n",
    "    for r in range(rcount):\n",
    "        row = cursor.fetchone()\n",
    "        common_id.append(row[0])\n",
    "        ra_deg.append(row[1])\n",
    "        dec_deg.append(row[2])\n",
    "        mass.append(row[3])\n",
    "        spt.append(row[4])\n",
    "\n",
    "\n",
    "except:\n",
    "    print(\"Error: unable to fecth data\")\n",
    "\n",
    "\n",
    "# Save the result into a Table\n",
    "SACY_mass = Table([common_id, ra_deg, dec_deg, mass,spt], \n",
    "                  names=('common_id', 'ra_deg', 'dec_deg', 'mass', 'spt'))\n",
    "\n",
    "SACY_mass_df = SACY_mass.to_pandas()\n",
    "\n",
    "print('SACY objects: '+str(len(SACY_mass_df)))\n",
    "\n",
    "#SACY_mass_df"
   ]
  },
  {
   "cell_type": "code",
   "execution_count": 48,
   "metadata": {},
   "outputs": [
    {
     "data": {
      "image/png": "[encoded data removed]",
      "text/plain": [
       "<Figure size 1008x360 with 2 Axes>"
      ]
     },
     "metadata": {},
     "output_type": "display_data"
    }
   ],
   "source": [
    "# Plot mass and SpT distribution in SACY using seaborn for the webpage\n",
    "\n",
    "sns.set_style(\"whitegrid\", {'axes.grid' : False})\n",
    "sns.set_palette(\"bright\")\n",
    "\n",
    "plt.subplot(122)\n",
    "pp = sns.distplot(SACY_mass_df['spt'],kde=False,bins=20)\n",
    "pp.set_xticks([20,30,40,50,60])\n",
    "pp.set_xticklabels(['A0','F0','G0','K0','M0'])\n",
    "\n",
    "\n",
    "plt.xlabel('SpT', fontsize=16)\n",
    "plt.ylabel('Frequency', fontsize=16)\n",
    "\n",
    "plt.subplot(121)\n",
    "pp = sns.distplot(SACY_mass_df['mass'],kde=False,bins=20)\n",
    "#pp.set_xticks([20,30,40,50,60])\n",
    "#pp.set_xticklabels(['A0','F0','G0','K0','M0'])\n",
    "\n",
    "\n",
    "plt.xlabel('Mass $(M_{\\odot})$', fontsize=16)\n",
    "plt.ylabel('Frequency', fontsize=16)\n",
    "plt.xlim(1.5, -0.1)  # decreasing mass\n",
    "\n",
    "fig = plt.gcf()\n",
    "fig.set_size_inches(14,5)\n",
    "\n",
    "fig.savefig(\"sacy_mass_Spt.png\", bbox_inches='tight')\n",
    "\n",
    "plt.show()"
   ]
  },
  {
   "cell_type": "code",
   "execution_count": null,
   "metadata": {},
   "outputs": [],
   "source": []
  }
 ],
 "metadata": {
  "kernelspec": {
   "display_name": "Python 3",
   "language": "python",
   "name": "python3"
  },
  "language_info": {
   "codemirror_mode": {
    "name": "ipython",
    "version": 3
   },
   "file_extension": ".py",
   "mimetype": "text/x-python",
   "name": "python",
   "nbconvert_exporter": "python",
   "pygments_lexer": "ipython3",
   "version": "3.7.6"
  }
 },
 "nbformat": 4,
 "nbformat_minor": 4
}
